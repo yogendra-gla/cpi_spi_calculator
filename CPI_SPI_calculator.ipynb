{
  "nbformat": 4,
  "nbformat_minor": 0,
  "metadata": {
    "colab": {
      "provenance": [],
      "toc_visible": true,
      "authorship_tag": "ABX9TyMoLR6g42k//MJRARzDF/48",
      "include_colab_link": true
    },
    "kernelspec": {
      "name": "python3",
      "display_name": "Python 3"
    },
    "language_info": {
      "name": "python"
    }
  },
  "cells": [
    {
      "cell_type": "markdown",
      "metadata": {
        "id": "view-in-github",
        "colab_type": "text"
      },
      "source": [
        "<a href=\"https://colab.research.google.com/github/yogendra-gla/cpi_spi_calculator/blob/main/CPI_SPI_calculator.ipynb\" target=\"_parent\"><img src=\"https://colab.research.google.com/assets/colab-badge.svg\" alt=\"Open In Colab\"/></a>"
      ]
    },
    {
      "cell_type": "code",
      "execution_count": 2,
      "metadata": {
        "colab": {
          "base_uri": "https://localhost:8080/"
        },
        "id": "_EgoBDlGdPMD",
        "outputId": "a97941ff-599b-4b15-eb54-b1b18000e133"
      },
      "outputs": [
        {
          "output_type": "stream",
          "name": "stdout",
          "text": [
            "\n",
            "Semester 1\n",
            "Enter the number of subjects: 13\n",
            "Enter the grade for the subject: 8\n",
            "Enter the credit for the subject: 3\n",
            "Enter the grade for the subject: 7\n",
            "Enter the credit for the subject: 3\n",
            "Enter the grade for the subject: 9\n",
            "Enter the credit for the subject: 4\n",
            "Enter the grade for the subject: 7\n",
            "Enter the credit for the subject: 2\n",
            "Enter the grade for the subject: 8\n",
            "Enter the credit for the subject: 4\n",
            "Enter the grade for the subject: 8\n",
            "Enter the credit for the subject: 4\n",
            "Enter the grade for the subject: 8\n",
            "Enter the credit for the subject: 1\n",
            "Enter the grade for the subject: 8\n",
            "Enter the credit for the subject: 1\n",
            "Enter the grade for the subject: 8\n",
            "Enter the credit for the subject: 1\n",
            "Enter the grade for the subject: 9\n",
            "Enter the credit for the subject: 1\n",
            "Enter the grade for the subject: 8\n",
            "Enter the credit for the subject: 1\n",
            "Enter the grade for the subject: 8\n",
            "Enter the credit for the subject: 1\n",
            "Enter the grade for the subject: 8\n",
            "Enter the credit for the subject: 1\n",
            "Do you want to add or delete subjects? (yes/no): no\n",
            "Do you want to input grades for another semester? (yes/no): no\n",
            "\n",
            "Semester 1 SPI: 8.0\n",
            "Semester 1 CPI: 0.8888888888888888\n",
            "\n",
            "Overall CPI: 8.0\n"
          ]
        }
      ],
      "source": [
        "def calculate_spi(grades, credits):\n",
        "    total_credits = sum(credits)\n",
        "    weighted_grades = sum(grade * credit for grade, credit in zip(grades, credits))\n",
        "    spi = weighted_grades / total_credits\n",
        "    return spi\n",
        "\n",
        "def calculate_cpi(spi_list, credit_list):\n",
        "    total_credits = sum(credit_list)\n",
        "    weighted_spi = sum(spi * credit for spi, credit in zip(spi_list, credit_list))\n",
        "    cpi = weighted_spi / total_credits\n",
        "    return cpi\n",
        "\n",
        "def add_subject(grades, credits):\n",
        "    subject_grade = float(input(\"Enter the grade for the new subject: \"))\n",
        "    subject_credit = int(input(\"Enter the credit for the new subject: \"))\n",
        "    grades.append(subject_grade)\n",
        "    credits.append(subject_credit)\n",
        "    print(\"Subject added successfully!\")\n",
        "\n",
        "def delete_subject(grades, credits):\n",
        "    print(\"Subjects:\")\n",
        "    for i, grade in enumerate(grades):\n",
        "        print(f\"{i + 1}. Grade: {grade}, Credit: {credits[i]}\")\n",
        "    index = int(input(\"Enter the index of the subject you want to delete: \")) - 1\n",
        "    del grades[index]\n",
        "    del credits[index]\n",
        "    print(\"Subject deleted successfully!\")\n",
        "\n",
        "def main():\n",
        "    semester_grades = []\n",
        "    semester_credits = []\n",
        "    continue_input = True\n",
        "\n",
        "    while continue_input:\n",
        "        print(\"\\nSemester\", len(semester_grades) + 1)\n",
        "        grades = []\n",
        "        credits = []\n",
        "        num_subjects = int(input(\"Enter the number of subjects: \"))\n",
        "        for _ in range(num_subjects):\n",
        "            grade = float(input(\"Enter the grade for the subject: \"))\n",
        "            credit = int(input(\"Enter the credit for the subject: \"))\n",
        "            grades.append(grade)\n",
        "            credits.append(credit)\n",
        "\n",
        "        semester_grades.append(grades)\n",
        "        semester_credits.append(credits)\n",
        "\n",
        "        choice = input(\"Do you want to add or delete subjects? (yes/no): \")\n",
        "        if choice.lower() == \"yes\":\n",
        "            operation = input(\"Enter 'add' or 'delete': \")\n",
        "            if operation.lower() == \"add\":\n",
        "                add_subject(grades, credits)\n",
        "            elif operation.lower() == \"delete\":\n",
        "                delete_subject(grades, credits)\n",
        "            else:\n",
        "                print(\"Invalid operation!\")\n",
        "\n",
        "        continue_input = input(\"Do you want to input grades for another semester? (yes/no): \").lower() == \"yes\"\n",
        "\n",
        "    # Calculate SPI and CPI for each semester\n",
        "    for i, (grades, credits) in enumerate(zip(semester_grades, semester_credits)):\n",
        "        spi = calculate_spi(grades, credits)\n",
        "        cpi = calculate_cpi([spi], credits)\n",
        "        print(f\"\\nSemester {i + 1} SPI:\", spi)\n",
        "        print(f\"Semester {i + 1} CPI:\", cpi)\n",
        "\n",
        "    # Calculate overall CPI\n",
        "    overall_spi_list = []\n",
        "    for grades, credits in zip(semester_grades, semester_credits):\n",
        "        spi = calculate_spi(grades, credits)\n",
        "        overall_spi_list.append(spi)\n",
        "    overall_cpi = calculate_cpi(overall_spi_list, [sum(credits) for credits in semester_credits])\n",
        "    print(\"\\nOverall CPI:\", overall_cpi)\n",
        "\n",
        "if __name__ == \"__main__\":\n",
        "    main()\n"
      ]
    }
  ]
}